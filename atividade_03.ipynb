{
  "nbformat": 4,
  "nbformat_minor": 0,
  "metadata": {
    "colab": {
      "provenance": [],
      "authorship_tag": "ABX9TyMXGHtVGR1baJFLX/k1byEg",
      "include_colab_link": true
    },
    "kernelspec": {
      "name": "python3",
      "display_name": "Python 3"
    },
    "language_info": {
      "name": "python"
    }
  },
  "cells": [
    {
      "cell_type": "markdown",
      "metadata": {
        "id": "view-in-github",
        "colab_type": "text"
      },
      "source": [
        "<a href=\"https://colab.research.google.com/github/vagner676/Introducao-a-programacao/blob/main/atividade_03.ipynb\" target=\"_parent\"><img src=\"https://colab.research.google.com/assets/colab-badge.svg\" alt=\"Open In Colab\"/></a>"
      ]
    },
    {
      "cell_type": "code",
      "source": [
        "def calculadora(n1, n2, n3):\n",
        "    if n3 == 1:\n",
        "        res = n1 + n2\n",
        "    elif n3 == 2:\n",
        "        res = n1 - n2\n",
        "    elif n3 == 3:\n",
        "        res = n1 * n2\n",
        "    elif n3 == 4:\n",
        "        if n2 != 0:\n",
        "            n3 = n1 / n2\n",
        "        else:\n",
        "            print(\"Erro: Divisão por zero.\")\n",
        "            return 0\n",
        "    else:\n",
        "        print(\"Operação inválida\")\n",
        "        return 0\n",
        "\n",
        "    return res\n",
        "\n",
        "n1 = float(input(\"Digite o primeiro número: \"))\n",
        "n2 = float(input(\"Digite o segundo número: \"))\n",
        "n3 = int(input(\"Escolha a operação (1 - Soma, 2 - Subtração, 3 - Multiplicação, 4 - Divisão): \"))\n",
        "\n",
        "res = calculadora(n1, n2, n3)\n",
        "\n",
        "print(f\"Resultado: {res}\")"
      ],
      "metadata": {
        "colab": {
          "base_uri": "https://localhost:8080/"
        },
        "id": "aG68VkN7gg1q",
        "outputId": "84a5570b-d324-4046-a36d-79915cd2d0c0"
      },
      "execution_count": 68,
      "outputs": [
        {
          "output_type": "stream",
          "name": "stdout",
          "text": [
            "Digite o primeiro número: 5\n",
            "Digite o segundo número: 5\n",
            "Escolha a operação (1 - Soma, 2 - Subtração, 3 - Multiplicação, 4 - Divisão): 1\n",
            "Resultado: 10.0\n"
          ]
        }
      ]
    }
  ]
}