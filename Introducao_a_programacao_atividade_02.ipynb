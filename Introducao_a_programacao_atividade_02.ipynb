{
  "nbformat": 4,
  "nbformat_minor": 0,
  "metadata": {
    "colab": {
      "provenance": [],
      "authorship_tag": "ABX9TyMP6PmmJZodP2pcPY5GM45X",
      "include_colab_link": true
    },
    "kernelspec": {
      "name": "python3",
      "display_name": "Python 3"
    },
    "language_info": {
      "name": "python"
    }
  },
  "cells": [
    {
      "cell_type": "markdown",
      "metadata": {
        "id": "view-in-github",
        "colab_type": "text"
      },
      "source": [
        "<a href=\"https://colab.research.google.com/github/vagner676/Introducao-a-programacao/blob/main/Introducao_a_programacao_atividade_02.ipynb\" target=\"_parent\"><img src=\"https://colab.research.google.com/assets/colab-badge.svg\" alt=\"Open In Colab\"/></a>"
      ]
    },
    {
      "cell_type": "markdown",
      "source": [
        "Precisamos imprimir um número para cada andar de um hotel de 20 andares. Porém, o dono do hotel é supersticioso e optou por não ter um 13ro andar.\n",
        "\n",
        "Escreva um código que imprima todos os números exceto o número 13."
      ],
      "metadata": {
        "id": "WSt8JUbo9nVT"
      }
    },
    {
      "cell_type": "code",
      "execution_count": null,
      "metadata": {
        "colab": {
          "base_uri": "https://localhost:8080/"
        },
        "id": "Ow98UVP79Idz",
        "outputId": "72288294-9d74-42cc-85fe-754c7667722a"
      },
      "outputs": [
        {
          "output_type": "stream",
          "name": "stdout",
          "text": [
            "andar 1\n",
            "andar 2\n",
            "andar 3\n",
            "andar 4\n",
            "andar 5\n",
            "andar 6\n",
            "andar 7\n",
            "andar 8\n",
            "andar 9\n",
            "andar 10\n",
            "andar 11\n",
            "andar 12\n",
            "andar 14\n",
            "andar 15\n",
            "andar 16\n",
            "andar 17\n",
            "andar 18\n",
            "andar 19\n",
            "andar 20\n"
          ]
        }
      ],
      "source": [
        "for i in range(1,21):\n",
        " if (i == 13):\n",
        "  continue\n",
        " print(\"andar\",i)"
      ]
    },
    {
      "cell_type": "markdown",
      "source": [
        "Escreva mais um código que resolva o mesmo problema, mas dessa vez usando o laço de repetição 'while'."
      ],
      "metadata": {
        "id": "I1cL1iwY9pPC"
      }
    },
    {
      "cell_type": "code",
      "source": [
        "i=0\n",
        "while (i < 20):\n",
        "    i = i + 1\n",
        "    if (i == 13):\n",
        "        continue\n",
        "    print(\"andar\",i)"
      ],
      "metadata": {
        "colab": {
          "base_uri": "https://localhost:8080/"
        },
        "id": "0yt9N6LI9Nua",
        "outputId": "9317b644-8bf6-416a-c3e4-4ccb70ded221"
      },
      "execution_count": null,
      "outputs": [
        {
          "output_type": "stream",
          "name": "stdout",
          "text": [
            "andar 1\n",
            "andar 2\n",
            "andar 3\n",
            "andar 4\n",
            "andar 5\n",
            "andar 6\n",
            "andar 7\n",
            "andar 8\n",
            "andar 9\n",
            "andar 10\n",
            "andar 11\n",
            "andar 12\n",
            "andar 14\n",
            "andar 15\n",
            "andar 16\n",
            "andar 17\n",
            "andar 18\n",
            "andar 19\n",
            "andar 20\n"
          ]
        }
      ]
    },
    {
      "cell_type": "markdown",
      "source": [
        "Como desafio, imprima eles em ordem decrescente (20, 19, 18...)"
      ],
      "metadata": {
        "id": "8EWpaSop9smK"
      }
    },
    {
      "cell_type": "code",
      "source": [
        "for i in range(20,0,-1):\n",
        " if (i == 13):\n",
        "  continue\n",
        " print(\"andar\",i)"
      ],
      "metadata": {
        "colab": {
          "base_uri": "https://localhost:8080/"
        },
        "id": "iU8YLdEx9gbM",
        "outputId": "59d2d11a-bf24-40c5-82a4-a0fc1e046303"
      },
      "execution_count": null,
      "outputs": [
        {
          "output_type": "stream",
          "name": "stdout",
          "text": [
            "andar 20\n",
            "andar 19\n",
            "andar 18\n",
            "andar 17\n",
            "andar 16\n",
            "andar 15\n",
            "andar 14\n",
            "andar 12\n",
            "andar 11\n",
            "andar 10\n",
            "andar 9\n",
            "andar 8\n",
            "andar 7\n",
            "andar 6\n",
            "andar 5\n",
            "andar 4\n",
            "andar 3\n",
            "andar 2\n",
            "andar 1\n"
          ]
        }
      ]
    }
  ]
}